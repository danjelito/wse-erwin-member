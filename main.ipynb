{
 "cells": [
  {
   "cell_type": "code",
   "execution_count": 104,
   "metadata": {},
   "outputs": [],
   "source": [
    "import importlib\n",
    "from pathlib import Path\n",
    "\n",
    "import numpy as np\n",
    "import pandas as pd\n",
    "\n",
    "import config\n",
    "import tests\n",
    "from modules import module\n",
    "\n",
    "try:\n",
    "    importlib.reload(module)  # reload module\n",
    "except NameError:\n",
    "    pass\n",
    "\n",
    "try:\n",
    "    importlib.reload(tests)  # reload module\n",
    "except NameError:\n",
    "    pass\n",
    "\n",
    "try:\n",
    "    importlib.reload(config)  # reload module\n",
    "except NameError:\n",
    "    pass"
   ]
  },
  {
   "attachments": {},
   "cell_type": "markdown",
   "metadata": {},
   "source": [
    "# Load DF"
   ]
  },
  {
   "cell_type": "code",
   "execution_count": 105,
   "metadata": {},
   "outputs": [],
   "source": [
    "path = Path(config.path_raw_file)\n",
    "df = pd.read_csv(path)\n",
    "\n",
    "target_cols = [\n",
    "    \"External ID\",\n",
    "    \"Display Name\",\n",
    "    \"Date of Birth\",\n",
    "    \"Email\",\n",
    "    \"Phone\",\n",
    "    \"Contract Type\",\n",
    "    \"From\",\n",
    "    \"To\",\n",
    "    \"Fully Paid Date\",\n",
    "    \"Membership/Display Name\",\n",
    "    \"Membership Status\",\n",
    "    \"Partner/Branch/Display Name\",\n",
    "    \"Partner/Date of Birth\",\n",
    "    \"Partner/Age\",\n",
    "    \"Partner/City\",\n",
    "    \"Partner/Gender\",\n",
    "    \"Partner/Household income/month\",\n",
    "    \"Partner/Industry/Display Name\",\n",
    "    \"Partner/Job Position\",\n",
    "    \"Partner/Occupation\",\n",
    "    \"Partner/Street\",\n",
    "    \"Partner/Street2\",\n",
    "    \"Followers (Partners)/Hobby\",\n",
    "    \"Followers (Partners)/Interest\",\n",
    "    \"Partner/Hobby\",\n",
    "    \"Partner/Interest\",\n",
    "]\n",
    "current_cols = list(df.columns)\n",
    "map_cols = dict(zip(current_cols, target_cols))\n",
    "df.columns = df.columns.map(map_cols)"
   ]
  },
  {
   "attachments": {},
   "cell_type": "markdown",
   "metadata": {},
   "source": [
    "# Clean DF"
   ]
  },
  {
   "cell_type": "code",
   "execution_count": 106,
   "metadata": {},
   "outputs": [],
   "source": [
    "df_clean = (\n",
    "    df\n",
    "    # drop na\n",
    "    .dropna(subset=\"From\")\n",
    "    .dropna(subset=\"To\")\n",
    "    # drop date too old\n",
    "    .loc[lambda df_: pd.to_datetime(df_[\"From\"]).dt.year >= 2020]\n",
    "    # drop membership code na\n",
    "    .loc[lambda df_: ~(df_[\"Membership/Display Name\"].isna())]\n",
    "    # filter cancelled member and free member and non member\n",
    "    .loc[\n",
    "        lambda df_: ~(\n",
    "            df_[\"Membership Status\"].isin(\n",
    "                [\"Cancelled Member\", \"Free Member\", \"Non Member\"]\n",
    "            )\n",
    "        )\n",
    "    ]\n",
    "    # rename column\n",
    "    .rename(columns=lambda c: module.clean_col_name(c))\n",
    "    .rename(columns=module.to_rename)\n",
    "    # drop unused cols\n",
    "    .drop(columns=module.to_drop)\n",
    "    .assign(\n",
    "        # clean city\n",
    "        city=lambda df_: (df_[\"city\"].str.title().str.strip()),\n",
    "        # clean dob, if dob1 blank then dob2\n",
    "        dob=lambda df_: np.where(\n",
    "            df_[\"dob\"].isna(), pd.to_datetime(df_[\"dob2\"]), pd.to_datetime(df_[\"dob\"])\n",
    "        ),\n",
    "        # clean start_date, end_date, fp_date\n",
    "        start_date=lambda df_: pd.to_datetime(df_[\"start_date\"]),\n",
    "        end_date=lambda df_: pd.to_datetime(df_[\"end_date\"]),\n",
    "        fp_date=lambda df_: pd.to_datetime(df_[\"fp_date\"]),\n",
    "        # clean income\n",
    "        income=lambda df_: df_[\"income\"].astype(module.income_cat),\n",
    "        # clean job\n",
    "        job=lambda df_: module.clean_job(df_),\n",
    "        # create age\n",
    "        age=lambda df_: module.get_age(df_),\n",
    "        # create id\n",
    "        id=lambda df_: df_[\"name\"] + \" \" + df_[\"dob\"].astype(str),\n",
    "        # create membership code\n",
    "        membership_code=lambda df_: module.get_membership_code(df_[\"product\"]),\n",
    "        # create membership duration\n",
    "        membership_duration=lambda df_: module.get_membership_duration(df_[\"product\"]),\n",
    "    )\n",
    "    # merge with membership mapping to obtain membership\n",
    "    .merge(\n",
    "        right=pd.read_excel(Path(\"input/membership_mapping.xlsx\")),\n",
    "        on=\"membership_code\",\n",
    "        how=\"left\",\n",
    "    )\n",
    "    # make sure that all corporate is mapped\n",
    "    .assign(\n",
    "        is_cpt=lambda df_: np.where(\n",
    "            df_[\"product\"].str.lower().str.contains(\"cpt|corporate|corp\", regex=True),\n",
    "            True,\n",
    "            df_[\"is_cpt\"],\n",
    "        )\n",
    "    )\n",
    "    # create student center and area \n",
    "    .assign(\n",
    "        center=lambda df_: module.clean_center(df_),\n",
    "        area=lambda df_: module.clean_area(df_),\n",
    "    )\n",
    "    # sort by id\n",
    "    .sort_values([\"id\", \"end_date\"], ascending=[True, False])\n",
    "    # create is next contract col\n",
    "    .assign(is_next_contract=lambda df_: df_[\"id\"].duplicated(keep=\"last\"))\n",
    "    # drop unused columns\n",
    "    .drop(columns=[\"dob2\", \"job1\", \"job2\", \"name\"])\n",
    "    # drop membership code na\n",
    "    .loc[lambda df_: ~(df_[\"membership_code\"].isna())]\n",
    "    # filter staff\n",
    "    .loc[lambda df_: df_[\"contract_type\"] != \"Employee\"]\n",
    "    .loc[lambda df_: df_[\"core_product\"] != \"Staff\"]\n",
    "    # sort column\n",
    "    .sort_index(axis=1)\n",
    ")\n",
    "\n",
    "date_columns = [\n",
    "    \"jan_2023\", \"feb_2023\", \"mar_2023\", \"apr_2023\", \"may_2023\", \"jun_2023\",\n",
    "    \"jul_2023\", \"aug_2023\", \"sep_2023\", \"oct_2023\", \"nov_2023\", \"dec_2023\"\n",
    "]\n",
    "activity_assignments = {\n",
    "    f\"active_{month}\": lambda df_: module.is_active(\n",
    "        df_, \"start_date\", \"end_date\", f\"1 {month.replace('_', ' ')}\"\n",
    "    ) for month in date_columns\n",
    "}\n",
    "df_clean = df_clean.assign(**activity_assignments)"
   ]
  },
  {
   "cell_type": "markdown",
   "metadata": {},
   "source": [
    "# Tests and Assertions"
   ]
  },
  {
   "cell_type": "code",
   "execution_count": 107,
   "metadata": {},
   "outputs": [],
   "source": [
    "tests.test_all_centers_mapped(df)\n",
    "tests.test_all_centers_are_filled(df_clean)\n",
    "tests.test_all_areas_are_filled(df_clean)\n",
    "tests.test_all_memberships_are_filled(df_clean)\n",
    "tests.test_all_membership_mapped(df_clean)"
   ]
  },
  {
   "attachments": {},
   "cell_type": "markdown",
   "metadata": {},
   "source": [
    "# Save DF"
   ]
  },
  {
   "cell_type": "code",
   "execution_count": 108,
   "metadata": {},
   "outputs": [
    {
     "name": "stdout",
     "output_type": "stream",
     "text": [
      "File already exist.\n"
     ]
    }
   ],
   "source": [
    "import os\n",
    "file= df_clean\n",
    "path= f'output/member_data_{Path(config.path_raw_file).stem}.parquet'\n",
    "\n",
    "if not os.path.exists(path):\n",
    "    file.to_parquet(path)\n",
    "    print('File saved.')\n",
    "else:\n",
    "    print('File already exist.')"
   ]
  },
  {
   "attachments": {},
   "cell_type": "markdown",
   "metadata": {},
   "source": [
    "# Experiment"
   ]
  },
  {
   "cell_type": "code",
   "execution_count": 109,
   "metadata": {},
   "outputs": [],
   "source": [
    "# df.loc[df['Membership/Display Name'].str.lower().str.contains('ilt', na= False)].sort_values('From')"
   ]
  },
  {
   "cell_type": "code",
   "execution_count": 110,
   "metadata": {},
   "outputs": [],
   "source": [
    "# df['Membership/Display Name'].unique()"
   ]
  },
  {
   "cell_type": "code",
   "execution_count": 111,
   "metadata": {},
   "outputs": [],
   "source": [
    "# df_clean['is_cpt'].value_counts()"
   ]
  },
  {
   "cell_type": "code",
   "execution_count": 112,
   "metadata": {},
   "outputs": [],
   "source": [
    "# df[\"Partner/Branch/Display Name\"].unique()"
   ]
  }
 ],
 "metadata": {
  "kernelspec": {
   "display_name": "data-science",
   "language": "python",
   "name": "python3"
  },
  "language_info": {
   "codemirror_mode": {
    "name": "ipython",
    "version": 3
   },
   "file_extension": ".py",
   "mimetype": "text/x-python",
   "name": "python",
   "nbconvert_exporter": "python",
   "pygments_lexer": "ipython3",
   "version": "3.11.5"
  },
  "orig_nbformat": 4
 },
 "nbformat": 4,
 "nbformat_minor": 2
}
