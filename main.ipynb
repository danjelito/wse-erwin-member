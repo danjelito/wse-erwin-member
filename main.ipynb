{
 "cells": [
  {
   "cell_type": "code",
   "execution_count": 14,
   "metadata": {},
   "outputs": [],
   "source": [
    "import importlib\n",
    "from pathlib import Path\n",
    "\n",
    "import numpy as np\n",
    "import pandas as pd\n",
    "\n",
    "import config\n",
    "import tests\n",
    "from modules import module\n",
    "\n",
    "try:\n",
    "    importlib.reload(module)  # reload module\n",
    "except NameError:\n",
    "    pass\n",
    "\n",
    "try:\n",
    "    importlib.reload(tests)  # reload module\n",
    "except NameError:\n",
    "    pass\n",
    "\n",
    "try:\n",
    "    importlib.reload(config)  # reload module\n",
    "except NameError:\n",
    "    pass"
   ]
  },
  {
   "attachments": {},
   "cell_type": "markdown",
   "metadata": {},
   "source": [
    "# Load DF"
   ]
  },
  {
   "cell_type": "code",
   "execution_count": 15,
   "metadata": {},
   "outputs": [],
   "source": [
    "path = Path(config.path_raw_file)\n",
    "try:\n",
    "    df = pd.read_csv(path)\n",
    "except UnicodeDecodeError:\n",
    "    df = pd.read_excel(path)"
   ]
  },
  {
   "attachments": {},
   "cell_type": "markdown",
   "metadata": {},
   "source": [
    "# Clean DF"
   ]
  },
  {
   "cell_type": "code",
   "execution_count": 16,
   "metadata": {},
   "outputs": [],
   "source": [
    "df_clean = (\n",
    "    df\n",
    "    # drop na\n",
    "    .dropna(subset=\"From\")\n",
    "    .dropna(subset=\"To\")\n",
    "    # rename column\n",
    "    .rename(columns=lambda c: module.clean_col_name(c))\n",
    "    .rename(columns=module.to_rename)\n",
    "    .assign(\n",
    "        # clean city\n",
    "        city=lambda df_: (df_[\"city\"].str.title().str.strip()),\n",
    "        # clean dob, if dob1 blank then dob2\n",
    "        dob=lambda df_: np.where(\n",
    "            df_[\"dob\"].isna(), pd.to_datetime(df_[\"dob2\"]), pd.to_datetime(df_[\"dob\"])\n",
    "        ),\n",
    "        # clean start_date, end_date, fp_date\n",
    "        start_date=lambda df_: pd.to_datetime(df_[\"start_date\"]),\n",
    "        end_date=lambda df_: pd.to_datetime(df_[\"end_date\"]),\n",
    "        fp_date=lambda df_: pd.to_datetime(df_[\"fp_date\"]),\n",
    "        # clean income\n",
    "        income=lambda df_: df_[\"income\"].astype(module.income_cat),\n",
    "        # clean job\n",
    "        job=lambda df_: module.clean_job(df_),\n",
    "        # create age\n",
    "        age=lambda df_: module.get_age(df_),\n",
    "        # create id\n",
    "        id=lambda df_: (\n",
    "            df_[\"name\"] + \" \" \n",
    "            + df_[\"dob\"].dt.strftime(\"%Y-%m-%d\") + \" \" \n",
    "            + df_[\"partner_street\"].astype(str)\n",
    "        ),\n",
    "        # create membership code\n",
    "        membership_code=lambda df_: module.get_membership_code(df_[\"product\"]),\n",
    "        # create membership duration\n",
    "        membership_duration=lambda df_: module.get_membership_duration(df_[\"product\"]),\n",
    "    )\n",
    "    # merge with membership mapping to obtain membership\n",
    "    .merge(\n",
    "        right=pd.read_excel(Path(\"input/membership_mapping.xlsx\")),\n",
    "        on=\"membership_code\",\n",
    "        how=\"left\",\n",
    "    )\n",
    "    .assign(\n",
    "        # make sure that all corporate is mapped\n",
    "        is_cpt=lambda df_: module.assert_cpt_catched(df_),\n",
    "        # create student center and area \n",
    "        center=lambda df_: module.clean_center(df_),\n",
    "        area=lambda df_: module.clean_area(df_),\n",
    "    )\n",
    "    # create is next contract col\n",
    "    # sort by id first\n",
    "    .sort_values([\"id\", \"end_date\"], ascending=[True, False])\n",
    "    .assign(is_next_contract=lambda df_: df_[\"id\"].duplicated(keep=\"last\"))\n",
    "    # drop membership code na\n",
    "    .loc[lambda df_: ~(df_[\"membership_code\"].isna())]\n",
    "    # filter staff\n",
    "    .loc[lambda df_: df_[\"contract_type\"].str.title() != \"Employee\"]\n",
    "    .loc[lambda df_: df_[\"core_product\"].str.title() != \"Staff\"]\n",
    "    # drop date too old\n",
    "    .loc[lambda df_: pd.to_datetime(df_[\"start_date\"]).dt.year >= 2020]\n",
    "    # drop membership code na\n",
    "    .loc[lambda df_: ~(df_[\"membership_code\"].isna())]\n",
    "    # filter cancelled member and free member and non member\n",
    "    .loc[\n",
    "        lambda df_: ~(\n",
    "            df_[\"membership_status\"].str.title().isin(\n",
    "                [\"Cancelled Member\", \"Free Member\", \"Non Member\"]\n",
    "            )\n",
    "        )\n",
    "    ]\n",
    "    # drop unused cols\n",
    "    .drop(columns=module.to_drop)\n",
    "    # sort column\n",
    "    .sort_index(axis=1)\n",
    ")\n",
    "\n",
    "date_columns = [\n",
    "    \"jan_2023\", \"feb_2023\", \"mar_2023\", \"apr_2023\", \"may_2023\", \"jun_2023\",\n",
    "    \"jul_2023\", \"aug_2023\", \"sep_2023\", \"oct_2023\", \"nov_2023\", \"dec_2023\", \n",
    "    \"jan_2024\", \"feb_2024\",\n",
    "]\n",
    "for month in date_columns:\n",
    "    activity_assignments = {\n",
    "        f\"active_{month}\": lambda df_: module.is_active(\n",
    "            df_, \"start_date\", \"end_date\", f\"1 {month.replace('_', ' ')}\"\n",
    "    )}\n",
    "    df_clean = df_clean.assign(**activity_assignments)"
   ]
  },
  {
   "cell_type": "markdown",
   "metadata": {},
   "source": [
    "# Tests and Assertions"
   ]
  },
  {
   "cell_type": "code",
   "execution_count": 17,
   "metadata": {},
   "outputs": [],
   "source": [
    "tests.test_all_centers_mapped(df)\n",
    "tests.test_all_centers_are_filled(df_clean)\n",
    "tests.test_all_areas_are_filled(df_clean)\n",
    "tests.test_all_memberships_are_filled(df_clean)\n",
    "tests.test_all_membership_mapped(df_clean)\n",
    "tests.test_cpt_is_flagged(df_clean)\n",
    "tests.test_cpt_in_cpt_center(df_clean)\n",
    "tests.test_cpt_in_cpt_area(df_clean)\n",
    "tests.test_noncpt_in_noncpt_center(df_clean)\n",
    "tests.test_noncpt_in_noncpt_area(df_clean)"
   ]
  },
  {
   "attachments": {},
   "cell_type": "markdown",
   "metadata": {},
   "source": [
    "# Save DF"
   ]
  },
  {
   "cell_type": "code",
   "execution_count": 18,
   "metadata": {},
   "outputs": [
    {
     "name": "stdout",
     "output_type": "stream",
     "text": [
      "File saved.\n"
     ]
    }
   ],
   "source": [
    "import os\n",
    "file= df_clean\n",
    "path= f'output/member_data_{Path(config.path_raw_file).stem}.xlsx'\n",
    "\n",
    "if not os.path.exists(path):\n",
    "    file.to_excel(path, index=False)\n",
    "    print('File saved.')\n",
    "else:\n",
    "    print('File already exist.')"
   ]
  },
  {
   "attachments": {},
   "cell_type": "markdown",
   "metadata": {},
   "source": [
    "# Experiment"
   ]
  },
  {
   "cell_type": "code",
   "execution_count": 19,
   "metadata": {},
   "outputs": [],
   "source": [
    "# df.loc[df['Membership/Display Name'].str.lower().str.contains('ilt', na= False)].sort_values('From')"
   ]
  },
  {
   "cell_type": "code",
   "execution_count": 20,
   "metadata": {},
   "outputs": [],
   "source": [
    "# df['Membership/Display Name'].unique()"
   ]
  },
  {
   "cell_type": "code",
   "execution_count": 21,
   "metadata": {},
   "outputs": [],
   "source": [
    "# df_clean['is_cpt'].value_counts()"
   ]
  },
  {
   "cell_type": "code",
   "execution_count": 22,
   "metadata": {},
   "outputs": [],
   "source": [
    "# df[\"Partner/Branch/Display Name\"].unique()"
   ]
  },
  {
   "cell_type": "code",
   "execution_count": 23,
   "metadata": {},
   "outputs": [],
   "source": [
    "# (df_clean\n",
    "#     .loc[df_clean[\"\"]]\n",
    "# )\n",
    "\n",
    "# mask = (\n",
    "#     df_clean[\"addon_1\"].astype(str)\n",
    "#     + df_clean[\"addon_2\"].astype(str)\n",
    "#     + df_clean[\"addon_3\"].astype(str)\n",
    "# ).str.lower().str.contains(\"club\")\n",
    "\n",
    "# mask2 = df_clean[\"is_cpt\"].isna()\n",
    "\n",
    "# (df_clean\n",
    "#     .loc[mask & mask2]\n",
    "#     .loc[lambda df_: df_[\"fp_date\"] >= pd.to_datetime(\"2023-01-01\")]\n",
    "#     .assign(fp_month=lambda df_: df_[\"fp_date\"].dt.strftime(\"%Y-%m-01\"))\n",
    "#     .groupby([\"fp_month\", \"is_renewal\"])\n",
    "#     .agg(count=(\"id\", \"nunique\"))\n",
    "#     .reset_index()\n",
    "#     .pivot(index=\"fp_month\", columns=\"is_renewal\")\n",
    "# )"
   ]
  },
  {
   "cell_type": "code",
   "execution_count": 24,
   "metadata": {},
   "outputs": [],
   "source": [
    "# # (df_clean\n",
    "# #     .loc[df_clean[\"\"]]\n",
    "# # )\n",
    "\n",
    "# mask = (\n",
    "#     df_clean[\"core_product\"].astype(str)\n",
    "# ).str.lower().str.contains(\"go\")\n",
    "\n",
    "# (df_clean\n",
    "#     .loc[mask]\n",
    "#     .loc[lambda df_: df_[\"fp_date\"] >= pd.to_datetime(\"2023-01-01\")]\n",
    "#     .assign(fp_month=lambda df_: df_[\"fp_date\"].dt.strftime(\"%Y-%m-01\"))\n",
    "#     .groupby([\"fp_month\", \"is_renewal\"])\n",
    "#     .agg(count=(\"id\", \"nunique\"))\n",
    "#     .reset_index()\n",
    "#     .pivot(index=\"fp_month\", columns=\"is_renewal\")\n",
    "# )"
   ]
  },
  {
   "cell_type": "code",
   "execution_count": 25,
   "metadata": {},
   "outputs": [],
   "source": [
    "# (\n",
    "#     df_clean\n",
    "#     # get jan 2024 fp\n",
    "#     .loc[(df_clean[\"fp_date\"].dt.month == 1) & (df_clean[\"fp_date\"].dt.year == 2024)]\n",
    "#     # get renewal\n",
    "#     .loc[lambda df_: df_[\"is_next_contract\"] == True]\n",
    "#     # get relevant cols\n",
    "#     .loc[\n",
    "#         :,\n",
    "#         [\n",
    "#             \"email\",\n",
    "#             \"fp_date\",\n",
    "#             \"id\",\n",
    "#             \"is_renewal\",\n",
    "#             \"membership_code\",\n",
    "#             \"membership_duration\",\n",
    "#             \"membership_status\",\n",
    "#             \"partner_hobby\",\n",
    "#             \"start_date\",\n",
    "#         ],\n",
    "#     ]\n",
    "#     # .to_excel(\"rep.xlsx\")\n",
    "#     # .loc[\n",
    "#     #     lambda df_: df_[\"id\"].str.contains(\n",
    "#     #         \"ADI NUGROHO|ELISA NOVRIYANTI MARPAUNG|ERLINA NOERPITASARI|NAUFAL PANDU IRSYADI\"\n",
    "#     #     )\n",
    "#     # ]\n",
    "# )"
   ]
  }
 ],
 "metadata": {
  "kernelspec": {
   "display_name": "data-science",
   "language": "python",
   "name": "python3"
  },
  "language_info": {
   "codemirror_mode": {
    "name": "ipython",
    "version": 3
   },
   "file_extension": ".py",
   "mimetype": "text/x-python",
   "name": "python",
   "nbconvert_exporter": "python",
   "pygments_lexer": "ipython3",
   "version": "3.11.8"
  },
  "orig_nbformat": 4
 },
 "nbformat": 4,
 "nbformat_minor": 2
}
