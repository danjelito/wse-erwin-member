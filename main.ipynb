{
 "cells": [
  {
   "cell_type": "code",
   "execution_count": 58,
   "metadata": {},
   "outputs": [],
   "source": [
    "import importlib\n",
    "from pathlib import Path\n",
    "\n",
    "import numpy as np\n",
    "import pandas as pd\n",
    "\n",
    "import config\n",
    "import tests\n",
    "from modules import module\n",
    "\n",
    "try:\n",
    "    importlib.reload(module)  # reload module\n",
    "except NameError:\n",
    "    pass\n",
    "\n",
    "try:\n",
    "    importlib.reload(tests)  # reload module\n",
    "except NameError:\n",
    "    pass\n",
    "\n",
    "try:\n",
    "    importlib.reload(config)  # reload module\n",
    "except NameError:\n",
    "    pass"
   ]
  },
  {
   "attachments": {},
   "cell_type": "markdown",
   "metadata": {},
   "source": [
    "# Load DF"
   ]
  },
  {
   "cell_type": "code",
   "execution_count": 59,
   "metadata": {},
   "outputs": [],
   "source": [
    "path = Path(config.path_raw_file)\n",
    "try:\n",
    "    df = pd.read_csv(path)\n",
    "except UnicodeDecodeError:\n",
    "    df = pd.read_excel(path)"
   ]
  },
  {
   "attachments": {},
   "cell_type": "markdown",
   "metadata": {},
   "source": [
    "# Clean DF"
   ]
  },
  {
   "cell_type": "code",
   "execution_count": 60,
   "metadata": {},
   "outputs": [
    {
     "name": "stdout",
     "output_type": "stream",
     "text": [
      "(14214, 49)\n"
     ]
    }
   ],
   "source": [
    "df_clean = (\n",
    "    df\n",
    "    .rename(columns={\"from\": \"From\", \"to\": \"To\"})\n",
    "    # drop na\n",
    "    .dropna(subset=\"From\")\n",
    "    .dropna(subset=\"To\")\n",
    "    # rename column\n",
    "    .rename(columns=lambda c: module.clean_col_name(c))\n",
    "    .rename(columns=module.to_rename)\n",
    "    .assign(\n",
    "        # clean city and create region\n",
    "        city=lambda df_: (df_[\"city\"].str.title().str.strip()),\n",
    "        region=lambda df_: module.create_region(df_[\"city\"], df_[\"partner_street\"]),\n",
    "        # clean dob, if dob1 blank then dob2\n",
    "        dob=lambda df_: np.where(\n",
    "            df_[\"dob\"].isna(), pd.to_datetime(df_[\"dob2\"]), pd.to_datetime(df_[\"dob\"])\n",
    "        ),\n",
    "        # clean start_date, end_date, fp_date\n",
    "        start_date=lambda df_: pd.to_datetime(df_[\"start_date\"]),\n",
    "        end_date=lambda df_: pd.to_datetime(df_[\"end_date\"]),\n",
    "        fp_date=lambda df_: pd.to_datetime(df_[\"fp_date\"]),\n",
    "        # clean income\n",
    "        income=lambda df_: df_[\"income\"].astype(module.income_cat),\n",
    "        # clean job and create job group\n",
    "        job=lambda df_: module.clean_job(df_),\n",
    "        job_group=lambda df_: module.group_job(df_[\"job\"]),\n",
    "        # clean gender\n",
    "        gender=lambda df_: module.clean_gender(df_[\"gender\"]),\n",
    "        # create age\n",
    "        age=lambda df_: module.get_age(df_),\n",
    "        # cleah join reason, hobby, interest\n",
    "        partner_join_reason=lambda df_: df_[\"partner_join_reason\"].str.strip().str.lower(),\n",
    "        hobby=lambda df_: df_[\"hobby\"].fillna(df_[\"partner_hobby\"]).str.strip().str.lower(),\n",
    "        interest=lambda df_: df_[\"interest\"].fillna(df_[\"partner_interest\"]).str.strip().str.lower(),\n",
    "        # create id\n",
    "        id=lambda df_: (\n",
    "            df_[\"name\"] + \" \" \n",
    "            + df_[\"dob\"].dt.strftime(\"%Y-%m-%d\")\n",
    "        ),\n",
    "        # create membership code\n",
    "        membership_code=lambda df_: module.get_membership_code(df_[\"product\"]),\n",
    "        # create membership duration\n",
    "        membership_duration=lambda df_: module.get_membership_duration(df_[\"product\"]),\n",
    "    )\n",
    "    # merge with membership mapping to obtain membership\n",
    "    .merge(\n",
    "        right=pd.read_excel(Path(\"input/membership_mapping.xlsx\")),\n",
    "        on=\"membership_code\",\n",
    "        how=\"left\",\n",
    "    )\n",
    "    .assign(\n",
    "        # make sure that all corporate is mapped\n",
    "        is_cpt=lambda df_: module.assert_cpt_catched(df_),\n",
    "        # create student center and area \n",
    "        center=lambda df_: module.clean_center(df_, \"center\", \"is_cpt\", \"core_product\"),\n",
    "        area=lambda df_: module.clean_area(df_),\n",
    "    )\n",
    "    # create is next contract col\n",
    "    # sort by id first\n",
    "    .sort_values([\"id\", \"end_date\"], ascending=[True, False])\n",
    "    .assign(is_next_contract=lambda df_: df_[\"id\"].duplicated(keep=\"last\"))\n",
    "    # ! drop membership code na\n",
    "    .loc[lambda df_: ~(df_[\"membership_code\"].isna())]\n",
    "    # ! filter staff\n",
    "    .loc[lambda df_: df_[\"contract_type\"].str.title() != \"Employee\"]\n",
    "    .loc[lambda df_: df_[\"core_product\"].str.title() != \"Staff\"]\n",
    "    # ! drop date too old\n",
    "    .loc[lambda df_: pd.to_datetime(df_[\"start_date\"]).dt.year >= 2020]\n",
    "    # ! filter cancelled member and free member and non member\n",
    "    .loc[\n",
    "        lambda df_: ~(\n",
    "            df_[\"membership_status\"].str.title().isin(\n",
    "                [\"Cancelled Member\", \"Free Member\", \"Non Member\"]\n",
    "            )\n",
    "        )\n",
    "    ]\n",
    "    # ! filter freezed member\n",
    "    .loc[lambda df_: ~df_[\"membership_code\"].isin([\"FREEZE\"])]\n",
    "    # # ! filter member with null id, phone and email\n",
    "    .loc[\n",
    "        lambda df_: ~((df_[\"id\"].isna()) & (df_[\"email\"].isna()) & (df_[\"phone\"].isna()))\n",
    "    ]\n",
    "    # drop unused cols\n",
    "    .drop(columns=module.to_drop)\n",
    "    # sort column\n",
    "    .sort_index(axis=1)\n",
    ")\n",
    "\n",
    "# create activity columns\n",
    "date_columns = [\n",
    "    \"jan_2023\", \"feb_2023\", \"mar_2023\", \"apr_2023\", \"may_2023\", \"jun_2023\",\n",
    "    \"jul_2023\", \"aug_2023\", \"sep_2023\", \"oct_2023\", \"nov_2023\", \"dec_2023\", \n",
    "    \"jan_2024\", \"feb_2024\", \"mar_2024\", \"apr_2024\", \"may_2024\"\n",
    "]\n",
    "for month in date_columns:\n",
    "    activity_assignments = {\n",
    "        f\"active_{month}\": lambda df_: module.is_active(\n",
    "            df_, \"start_date\", \"end_date\", f\"1 {month.replace('_', ' ')}\"\n",
    "    )}\n",
    "    df_clean = df_clean.assign(**activity_assignments)\n",
    "\n",
    "# if nan center < 1% of df length, drop nan center\n",
    "perc_nan = df_clean[\"center\"].isna().sum() / len(df_clean) * 100\n",
    "if perc_nan < 1:\n",
    "    df_clean = df_clean.dropna(subset=\"center\")\n",
    "\n",
    "\n",
    "# sort columns\n",
    "order = [\n",
    "    \"id\", \"dob\", \"age\", \"phone\", \"email\", \"gender\", \"income\",\n",
    "    \"start_date\", \"end_date\", \"job\", \"job_group\", \"interest\", \"hobby\", \"partner_join_reason\",\n",
    "    \"partner_street\", \"city\", \"region\", \"product\", \"membership_code\", \"core_product\", \"addon_1\",\n",
    "    \"addon_2\", \"addon_3\", \"membership_duration\", \"contract_type\", \"membership_status\", \"center\", \"area\",\n",
    "    \"fp_date\", \"is_cpt\", \"is_next_contract\", \"is_renewal\", \n",
    "    'active_jan_2023', 'active_feb_2023', 'active_mar_2023',\n",
    "    'active_apr_2023', 'active_may_2023', 'active_jun_2023',\n",
    "    'active_jul_2023', 'active_aug_2023', 'active_sep_2023',\n",
    "    'active_oct_2023', 'active_nov_2023', 'active_dec_2023',\n",
    "    'active_jan_2024', 'active_feb_2024', 'active_mar_2024',\n",
    "    'active_apr_2024', 'active_may_2024'\n",
    "]\n",
    "assert set(order) == set(df_clean.columns)\n",
    "df_clean = df_clean.loc[:, order]\n",
    "print(df_clean.shape)"
   ]
  },
  {
   "cell_type": "markdown",
   "metadata": {},
   "source": [
    "# Tests and Assertions"
   ]
  },
  {
   "cell_type": "code",
   "execution_count": 61,
   "metadata": {},
   "outputs": [],
   "source": [
    "tests.test_all_centers_mapped(df)\n",
    "tests.test_all_centers_are_correct(df_clean)\n",
    "tests.test_all_areas_are_correct(df_clean)\n",
    "tests.test_na_center_low(df_clean[\"center\"], threshold=0.0)\n",
    "tests.test_na_area_low(df_clean[\"area\"], threshold=0.0)\n",
    "tests.test_all_memberships_are_filled(df_clean)\n",
    "tests.test_all_membership_mapped(df_clean)\n",
    "tests.test_cpt_is_flagged(df_clean)\n",
    "tests.test_cpt_in_cpt_center(df_clean)\n",
    "tests.test_cpt_in_cpt_area(df_clean)\n",
    "tests.test_noncpt_in_noncpt_center(df_clean)\n",
    "tests.test_noncpt_in_noncpt_area(df_clean)"
   ]
  },
  {
   "attachments": {},
   "cell_type": "markdown",
   "metadata": {},
   "source": [
    "# Save DF"
   ]
  },
  {
   "cell_type": "code",
   "execution_count": 62,
   "metadata": {},
   "outputs": [],
   "source": [
    "import os\n",
    "\n",
    "file = df_clean\n",
    "path = f\"output/member_data_{Path(config.path_raw_file).stem}.xlsx\"\n",
    "\n",
    "if not os.path.exists(path):\n",
    "    file.to_excel(path, index=False)\n",
    "    print(\"File saved.\")\n",
    "else:\n",
    "    print(\"File already exist.\")"
   ]
  },
  {
   "attachments": {},
   "cell_type": "markdown",
   "metadata": {},
   "source": [
    "# Experiment"
   ]
  }
 ],
 "metadata": {
  "kernelspec": {
   "display_name": "data-science",
   "language": "python",
   "name": "python3"
  },
  "language_info": {
   "codemirror_mode": {
    "name": "ipython",
    "version": 3
   },
   "file_extension": ".py",
   "mimetype": "text/x-python",
   "name": "python",
   "nbconvert_exporter": "python",
   "pygments_lexer": "ipython3",
   "version": "3.11.8"
  },
  "orig_nbformat": 4
 },
 "nbformat": 4,
 "nbformat_minor": 2
}
